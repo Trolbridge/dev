{
 "cells": [
  {
   "cell_type": "markdown",
   "id": "10b1a118-80c6-4864-900e-960b73c81899",
   "metadata": {},
   "source": [
    "# Hello World"
   ]
  },
  {
   "cell_type": "code",
   "execution_count": 1,
   "id": "2f727f71-38ab-41ca-8604-146a2896a752",
   "metadata": {
    "tags": []
   },
   "outputs": [
    {
     "name": "stdout",
     "output_type": "stream",
     "text": [
      "eello\n"
     ]
    }
   ],
   "source": [
    "package main\n",
    "\n",
    "import \"fmt\"\n",
    "\n",
    "\n",
    "func main() {\n",
    "    fmt.Println(\"eello\")\n",
    "}\n",
    "main()"
   ]
  },
  {
   "cell_type": "markdown",
   "id": "28253c48-c9e4-49b9-8f59-e941a4d2209c",
   "metadata": {},
   "source": [
    "# Create Golang workspace in VS Code\n",
    "File > Save Workspace As...  \n",
    "New Folder \"toolkit-project\"  \n",
    "Save As: toolkit.code-workspace  \n",
    "File > Add Folder to Workspace...  \n",
    "Select \"toolkit-project\"  \n",
    "New Folder \"toolkit\"  \n",
    "File > Add Folder to Workspace...  \n",
    "Select \"toolkit-project\"  \n",
    "New Folder \"app\"  \n",
    "cd into \"toolkit\" folder  \n",
    "go mod init github.com/trolbridge/toolkit  \n",
    "cd ../app  \n",
    "go mod init myapp  \n",
    "cd ..  \n",
    "go work init toolkit app  \n",
    "touch toolkit/tools.go  \n",
    "printf \"%s\\n\" \"package toolkit\" \"\" \"type Tools struct {}\" > toolkit/tools.go  \n"
   ]
  },
  {
   "cell_type": "markdown",
   "id": "f4b3fe3f-7a01-42c9-9b3b-7d9da6318aa0",
   "metadata": {
    "tags": []
   },
   "source": [
    "<style>\n",
    "    style=\"color:green;font-size: 30px;\"\n",
    "    tab\t\t\t\t\t\t\t\t\t\t&emsp;\n",
    "    space\t\t\t\t\t\t\t\t\t&ensp; \n",
    "    Non-breaking space\t\t\t\t\t\t&nbsp;\n",
    "    Less than (<)\t\t\t\t\t\t\t&lt;\n",
    "    More than (>)\t\t\t\t\t\t\t&gt;\n",
    "    Ampersand (&)\t\t\t\t\t\t\t&amp;\n",
    "    single quotation mark (apostrophe) (‘)\t&apos;\n",
    "    double quotation mark (“)\t\t\t\t&quot;\n",
    "    <span style=\"display:inline-block; width: YOURWIDTH;\"></span>\n",
    "    <span style=\"display:block; height: YOURHEIGHT;\"></span>\n",
    "    [//]: # (This may be the most platform independent comment)\n",
    "</style>\n",
    "    \n",
    "<span style=\"color:green;font-size: 30px;\">Four Major types of Declaration <span style=\"color:blue\">Variable, Type, Constant, Function</span> </span>\n",
    "    \n",
    "[//]: # (Variable)\n",
    "<span style=\"font-size: 25px;\">Variable</span><br>\n",
    "<span style=\"font-size: 20px;\">&emsp;Variable Declaration</span><br>\n",
    "<span style=\"color:green\">&emsp;&emsp;var name type = expression<span style=\"color:black\">&ensp;<em>**type or expression can be omitted but not both</em></span></span><br>\n",
    "<span style=\"color:blue\">&emsp;&emsp;&emsp;var integer int = 1</span><br>\n",
    "<span style=\"color:orange\">&emsp;&emsp;&emsp;&emsp;var integer int</span><br>\n",
    "<span style=\"color:orange\">&emsp;&emsp;&emsp;&emsp;var integer = 1</span><br>\n",
    "<span style=\"color:green\">&emsp;&emsp;Multi variable declaration</span><br>\n",
    "<span style=\"color:blue\">&emsp;&emsp;&emsp;var integer1, integer2 int</span><br>\n",
    "<span style=\"color:blue\">&emsp;&emsp;&emsp;var integer, string = 1, \"string\"</span><br>\n",
    "<span>&emsp;&emsp;default values: null for interfaces and references</span>\n",
    "\n",
    "[//]: # (Short Declaration)\n",
    "<span style=\"font-size: 20px;\">&emsp;Short Declaration</span><br>\n",
    "<span style=\"color:green\">&emsp;&emsp;name := expression</span><br>\n",
    "<span style=\"color:blue\">&emsp;&emsp;&emsp;boolean := false</span><br>\n",
    "\n",
    "[//]: # (Pointers)\n",
    "<span style=\"font-size: 20px;\">&emsp;Pointers</span><br>\n",
    "<span style=\"color:blue\">&emsp;&emsp;var int x = 1</span><br>\n",
    "<span style=\"color:blue\">&emsp;&emsp;var p *int = &x</span><br>\n",
    "<span style=\"color:blue\">&emsp;&emsp;x := 1</span><br>\n",
    "<span style=\"color:blue\">&emsp;&emsp;p := &x</span><br>\n",
    "    \n",
    "[//]: # (Type)\n",
    "<span style=\"font-size: 25px;\">Type</span><br>\n",
    "<span style=\"color:green\">&emsp;type fahrenheit float32</span><br>\n",
    "<span style=\"color:green\">&emsp;type celsius float32</span><br>\n",
    "<span style=\"color:blue\">&emsp;&emsp;var f fahrenheit = 32</span><br>\n",
    "<span style=\"color:blue\">&emsp;&emsp;var c celsius = 0</span><br>\n",
    "    \n",
    "[//]: # (Casting)\n",
    "<span style=\"font-size: 20px;\">&emsp;Casting conversions</span><br>\n",
    "<span style=\"color:green\">&emsp;&emsp;c = celsius((f - 32) * 5 / 9)</span><br>\n",
    "\n",
    "[//]: # (Constant)\n",
    "<span style=\"font-size: 25px;\">Constant</span><br>\n",
    "\n",
    "[//]: # (Function)\n",
    "<span style=\"font-size: 25px;\">Function</span><br>\n"
   ]
  },
  {
   "cell_type": "code",
   "execution_count": 2,
   "id": "d5d1c0ce-5601-46a4-bf00-ae4df86a619f",
   "metadata": {},
   "outputs": [],
   "source": [
    "package main\n",
    "\n",
    "import \"fmt\"\n",
    "\n",
    "func main() {\n",
    "\tx := 1\n",
    "\tvar p *int = &x\n",
    "\tfmt.Println(p, *p)\n",
    "\tfmt.Println(*p)\n",
    "\ttype fahrenheit = float32\n",
    "\ttype celsius float32\n",
    "\tvar f fahrenheit = 32\n",
    "\tvar c celsius = 0\n",
    "\t// Casting conversions\n",
    "\tc = celsius((f - 32) * 5 / 9)\n",
    "\tfmt.Printf(\"%.1f, %.1f\", f, c,)\n",
    "}"
   ]
  },
  {
   "cell_type": "markdown",
   "id": "a1fc9e81-43fc-4d31-ac2b-052bdeccaaf9",
   "metadata": {},
   "source": [
    "Packages & Scope  \n",
    "\n",
    "3 Levels of Scope block\tpackage\tuniverse\n",
    "block inside brackets\n",
    "package inside a package outside brackets"
   ]
  },
  {
   "cell_type": "markdown",
   "id": "69b57234-adb0-4a5e-922a-73a9d278b67e",
   "metadata": {},
   "source": [
    "# Golang Numbers & Golang Math Library\n",
    "\n",
    "var x int = 1\n",
    "var x32 int32 = 1\n",
    "var x64 int64 = 1\n",
    "\n",
    "fmt.Printf(\"%T, %T, %T\", x, x32, x64)\n",
    "\n",
    "x = int(x32)\n",
    "x = int(x64)\n",
    "\n",
    "iuint8       the set of all unsigned  8-bit integers (0 to 255)\n",
    "uint16      the set of all unsigned 16-bit integers (0 to 65535)\n",
    "uint32      the set of all unsigned 32-bit integers (0 to 4294967295)\n",
    "uint64      the set of all unsigned 64-bit integers (0 to 18446744073709551615)\n",
    "\n",
    "int8        the set of all signed  8-bit integers (-128 to 127)\n",
    "int16       the set of all signed 16-bit integers (-32768 to 32767)\n",
    "int32       the set of all signed 32-bit integers (-2147483648 to 2147483647)\n",
    "int64       the set of all signed 64-bit integers (-9223372036854775808 to 9223372036854775807)\n",
    "\n",
    "float32     the set of all IEEE-754 32-bit floating-point numbers\n",
    "float64     the set of all IEEE-754 64-bit floating-point numbers\n",
    "\n",
    "complex64   the set of all complex numbers with float32 real and imaginary parts\n",
    "complex128  the set of all complex numbers with float64 real and imaginary parts\n",
    "\n",
    "byte        alias for uint8\n",
    "rune        alias for int32nt8 (8-bit signed integer whose range is -128 to 127)\n",
    "\n",
    "int16 (16-bit signed integer whose range is -32768 to 32767)\n",
    "int32 (32-bit signed integer whose range is -2147483648 to 2147483647)\n",
    "int64 (64-bit signed integer whose range is -9223372036854775808 to 9223372036854775807)\n",
    "\n",
    "uint8 (8-bit unsigned integer whose range is 0 to 255 )\n",
    "uint16 (16-bit unsigned integer whose range is 0 to 65535 )\n",
    "uint32 (32-bit unsigned integer whose range is 0 to 4294967295 )\n",
    "uint64 (64-bit unsigned integer whose range is 0 to 18446744073709551615 )\n",
    "\n",
    "uint     either 32 or 64 bits\n",
    "int      same size as uint\n",
    "uintptr  an unsigned integer large enough to store the uninterpreted bits of a pointer value\n",
    "\n",
    "\n",
    "Derived types\tThey include (a) Pointer types, (b) Array types, (c) Structure types,\n",
    "(d) Union types and (e) Function types f) Slice types g) Interface types h) Map types i) Channel Types"
   ]
  },
  {
   "cell_type": "code",
   "execution_count": 5,
   "id": "f1fd54ce-9dd0-49ba-a1eb-5c1017613ff1",
   "metadata": {},
   "outputs": [
    {
     "data": {
      "text/plain": [
       "1000000"
      ]
     },
     "execution_count": 5,
     "metadata": {},
     "output_type": "execute_result"
    }
   ],
   "source": [
    "var million int = 1_000_000\n",
    "million"
   ]
  },
  {
   "cell_type": "markdown",
   "id": "4f642bcc-d895-4baf-b54e-24f124304154",
   "metadata": {},
   "source": [
    "# Defining a Function\n",
    "\n",
    "func function_name( [parameter list] ) [return_types] {  \n",
    "&emsp; body of the function  \n",
    "}"
   ]
  },
  {
   "cell_type": "markdown",
   "id": "636cf72e-7ed7-4b61-b41e-6c4674995a9f",
   "metadata": {},
   "source": [
    "# Keywords\n",
    "The following keywords are reserved and may not be used as identifiers.\n",
    "\n",
    "break\t\t default      func         interface    select  \n",
    "case\t\t\tdefer        go           map          struct  \n",
    "chan&emsp;&emsp;&emsp; else         goto         package      switch  \n",
    "const&emsp;&emsp;&emsp; fallthrough  if           range        type  \n",
    "continue&emsp;&emsp; for          import       return       var  "
   ]
  },
  {
   "cell_type": "markdown",
   "id": "04b558ed-8c0e-4b8c-9475-34a895f8ab13",
   "metadata": {},
   "source": [
    "# Structs\n",
    "\n",
    "type ninja struct {  \n",
    "    name string  \n",
    "    weapons []string  \n",
    "    level int  \n",
    "}  "
   ]
  },
  {
   "cell_type": "markdown",
   "id": "3285b047-795c-45fb-aa32-2847550225e3",
   "metadata": {},
   "source": [
    "# Generics\n"
   ]
  },
  {
   "cell_type": "code",
   "execution_count": 7,
   "id": "80f913af-8b7b-433b-8d4e-556fbf1d7b4b",
   "metadata": {},
   "outputs": [
    {
     "ename": "ERROR",
     "evalue": "repl.go:1:9: expected '(', found '['",
     "output_type": "error",
     "traceback": [
      "repl.go:1:9: expected '(', found '['"
     ]
    }
   ],
   "source": [
    "func min[T interface{}](a T, b T) T {\n",
    "    return a\n",
    "}\n",
    "fmt.Println(min[int](1, 2))"
   ]
  },
  {
   "cell_type": "code",
   "execution_count": null,
   "id": "a3af0ba7-b74c-4590-9354-02931af4d874",
   "metadata": {},
   "outputs": [],
   "source": []
  }
 ],
 "metadata": {
  "kernelspec": {
   "display_name": "Go",
   "language": "go",
   "name": "gophernotes"
  },
  "language_info": {
   "codemirror_mode": "",
   "file_extension": ".go",
   "mimetype": "",
   "name": "go",
   "nbconvert_exporter": "",
   "pygments_lexer": "",
   "version": "go1.18.1"
  }
 },
 "nbformat": 4,
 "nbformat_minor": 5
}
